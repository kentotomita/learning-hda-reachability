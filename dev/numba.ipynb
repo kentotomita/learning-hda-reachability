{
 "cells": [
  {
   "cell_type": "code",
   "execution_count": 17,
   "metadata": {},
   "outputs": [],
   "source": [
    "from numba import jit, float64\n",
    "import numpy as np\n",
    "import pickle\n",
    "import sys\n",
    "sys.path.append('../')"
   ]
  },
  {
   "cell_type": "code",
   "execution_count": 18,
   "metadata": {},
   "outputs": [],
   "source": [
    "@jit(nopython=True)\n",
    "def _dynamics(r, v, z, u, dt, g, alpha):\n",
    "    dt22 = dt ** 2 / 2.0\n",
    "    mass = np.exp(z)\n",
    "    a = u / mass + g\n",
    "\n",
    "    # Compute next state\n",
    "    r_next = r + dt * v + dt22 * a\n",
    "    v_next = v + dt * a\n",
    "    z_next = z - dt * alpha * np.linalg.norm(u) / mass\n",
    "\n",
    "    return r_next, v_next, z_next\n",
    "\n",
    "@jit(nopython=True)\n",
    "def _propagate_state(x0, u, N, dt, g, alpha):\n",
    "    r = np.zeros((N + 1, 3))\n",
    "    v = np.zeros((N + 1, 3))\n",
    "    z = np.zeros(N + 1)\n",
    "\n",
    "    r[0] = x0[:3]\n",
    "    v[0] = x0[3:6]\n",
    "    z[0] = x0[6]\n",
    "\n",
    "    for i in range(N):\n",
    "        r[i + 1], v[i + 1], z[i + 1] = _dynamics(r[i], v[i], z[i], u[i], dt, g, alpha)\n",
    "    \n",
    "    return r, v, z\n",
    "\n",
    "@jit(nopython=True)\n",
    "def _get_cstr(r, v, z, u, N, rho1, rho2, pa, gsa, vmax):\n",
    "    cstr_eq = np.zeros(4)\n",
    "    cstr_ineq = np.zeros(5 * N + 3)\n",
    "\n",
    "    # Equality constraints\n",
    "    cstr_eq[0] = r[N, 2]\n",
    "    cstr_eq[1:] = v[N, :]\n",
    "\n",
    "    # Inequality constraints\n",
    "    i_ieq = 0\n",
    "    # Thrust bounds\n",
    "    for i in range(N):\n",
    "        cstr_ineq[i_ieq] = rho1 - np.linalg.norm(u[i])\n",
    "        cstr_ineq[i_ieq + 1] = np.linalg.norm(u[i]) - rho2\n",
    "        i_ieq += 2\n",
    "\n",
    "    # Pointing angle constraint\n",
    "    for i in range(N):\n",
    "        cstr_ineq[i_ieq] = np.linalg.norm(u[i]) * np.cos(pa) - u[i, 2]\n",
    "        i_ieq += 1\n",
    "\n",
    "    # Glide slope constraint\n",
    "    for i in range(N+1):\n",
    "        cstr_ineq[i_ieq] = np.linalg.norm(r[i, :2] - r[-1, :2]) * np.tan(gsa) - (r[i, 2] - r[-1, 2])\n",
    "        i_ieq += 1\n",
    "\n",
    "    # Velocity constraint\n",
    "    for i in range(N):\n",
    "        cstr_ineq[i_ieq] = np.linalg.norm(v[i]) - vmax\n",
    "        i_ieq += 1\n",
    "\n",
    "    return cstr_eq, cstr_ineq\n",
    "\n"
   ]
  },
  {
   "cell_type": "code",
   "execution_count": 20,
   "metadata": {},
   "outputs": [
    {
     "name": "stdout",
     "output_type": "stream",
     "text": [
      "Mean time:  0.0012925522327423096\n"
     ]
    }
   ],
   "source": [
    "with open('../saved/controllable_set/lander.pkl', 'rb') as f:\n",
    "    lander = pickle.load(f)\n",
    "\n",
    "N = 60\n",
    "tgo = 60.0\n",
    "dt = tgo / N\n",
    "alt = 1500.0\n",
    "mass = 1800.0\n",
    "x0 = np.array([0, 0, alt, -30.0, 0, -55.0, np.log(mass)])\n",
    "\n",
    "u = np.zeros((N, 3))\n",
    "\n",
    "\n",
    "# measure time\n",
    "import time\n",
    "t0 = time.time()\n",
    "\n",
    "for i in range(1000):\n",
    "    r, v, z = _propagate_state(x0, u, N, dt, lander.g, lander.alpha)\n",
    "    cstr_eq, cstr_ineq = _get_cstr(r, v, z, u, N, lander.rho1, lander.rho2, lander.pa, lander.gsa, lander.vmax)\n",
    "t1 = time.time()\n",
    "print(\"Mean time: \", (t1 - t0) / 1000.0)"
   ]
  },
  {
   "cell_type": "code",
   "execution_count": null,
   "metadata": {},
   "outputs": [],
   "source": []
  }
 ],
 "metadata": {
  "kernelspec": {
   "display_name": "pygmo2",
   "language": "python",
   "name": "python3"
  },
  "language_info": {
   "codemirror_mode": {
    "name": "ipython",
    "version": 3
   },
   "file_extension": ".py",
   "mimetype": "text/x-python",
   "name": "python",
   "nbconvert_exporter": "python",
   "pygments_lexer": "ipython3",
   "version": "3.11.6"
  }
 },
 "nbformat": 4,
 "nbformat_minor": 2
}
