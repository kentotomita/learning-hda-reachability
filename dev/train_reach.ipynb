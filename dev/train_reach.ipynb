{
 "cells": [
  {
   "cell_type": "code",
   "execution_count": 1,
   "metadata": {},
   "outputs": [],
   "source": [
    "import numpy as np\n",
    "import os \n",
    "import sys\n",
    "sys.path.append('../')\n",
    "import src.learning as lrn\n",
    "%load_ext autoreload\n",
    "%matplotlib widget"
   ]
  },
  {
   "cell_type": "markdown",
   "metadata": {},
   "source": [
    "# Dataloader"
   ]
  },
  {
   "cell_type": "markdown",
   "metadata": {},
   "source": [
    "## Transform"
   ]
  },
  {
   "cell_type": "code",
   "execution_count": 2,
   "metadata": {},
   "outputs": [],
   "source": [
    "data_random = np.load(\"../saved/controllable_set/reachset_train/20231115-025054/data_random.npy\")\n",
    "data_structured = np.load(\"../saved/controllable_set/reachset_train/20231115-025054/data_structured.npy\")"
   ]
  },
  {
   "cell_type": "code",
   "execution_count": 3,
   "metadata": {},
   "outputs": [
    {
     "name": "stdout",
     "output_type": "stream",
     "text": [
      "Random data shape: (68140, 11)\n",
      "Structured data shape: (20585, 11)\n"
     ]
    }
   ],
   "source": [
    "# print shapes\n",
    "print(f\"Random data shape: {data_random.shape}\")\n",
    "print(f\"Structured data shape: {data_structured.shape}\")"
   ]
  },
  {
   "cell_type": "code",
   "execution_count": 4,
   "metadata": {},
   "outputs": [
    {
     "name": "stdout",
     "output_type": "stream",
     "text": [
      "Structured\n",
      "h: [52.127631533784395, 1652.9776316311097]\n",
      "vx: [0.3263441682622546, 55.94801083605122]\n",
      "vz: [-96.25053158953001, 84.9887759056876]\n",
      "m: [1545.9103079040513, 1903.2263149089836]\n",
      "tgo: [9.600000000000001, 149.8]\n",
      "x_xmax: [4.189482495655608, 217.61863491294304]\n",
      "y_xmax: [0.0, 0.0]\n",
      "x_xmin: [-217.61863366243162, 217.4539864829522]\n",
      "y_xmin: [0.0, 0.0]\n",
      "x_ymax: [-0.0003199288509331997, 217.4981489410149]\n",
      "y_ymax: [0.1806506535426812, 217.61863366335717]\n",
      "Random\n",
      "h: [14.144100719893745, 1692.9266229047284]\n",
      "vx: [7.484814183693819e-07, 56.01771011781459]\n",
      "vz: [-99.95226381743866, 86.24251275796276]\n",
      "m: [1552.935802705344, 1904.5681306871813]\n",
      "tgo: [10.0, 150.0]\n",
      "x_xmax: [1.862106186005685, 222.87801813764355]\n",
      "y_xmax: [0.0, 0.0]\n",
      "x_xmin: [-222.8026601225657, 216.4802465568183]\n",
      "y_xmin: [0.0, 0.0]\n",
      "x_ymax: [-0.000702263509064533, 217.5152083108791]\n",
      "y_ymax: [0.9463121147208833, 222.8026601199757]\n"
     ]
    }
   ],
   "source": [
    "# print bounds for each column\n",
    "names = [\"h\", \"vx\", \"vz\", \"m\", \"tgo\", \"x_xmax\", \"y_xmax\", \"x_xmin\", \"y_xmin\", \"x_ymax\", \"y_ymax\"]\n",
    "for data in [data_structured, data_random]:\n",
    "    print(\"Structured\" if data is data_structured else \"Random\")\n",
    "    for i in range(data.shape[1]):\n",
    "        print(f\"{names[i]}: [{np.min(data[:, i])}, {np.max(data[:, i])}]\")"
   ]
  },
  {
   "cell_type": "code",
   "execution_count": 5,
   "metadata": {},
   "outputs": [
    {
     "name": "stdout",
     "output_type": "stream",
     "text": [
      "Reachset shape: (88725, 11)\n",
      "h: [14.144100719893745, 1692.9266229047284]\n",
      "vx: [7.484814183693819e-07, 56.01771011781459]\n",
      "vz: [-99.95226381743866, 86.24251275796276]\n",
      "m: [1545.9103079040513, 1904.5681306871813]\n",
      "tgo: [9.600000000000001, 150.0]\n",
      "x_xmax: [1.862106186005685, 222.87801813764355]\n",
      "y_xmax: [0.0, 0.0]\n",
      "x_xmin: [-222.8026601225657, 217.4539864829522]\n",
      "y_xmin: [0.0, 0.0]\n",
      "x_ymax: [-0.000702263509064533, 217.5152083108791]\n",
      "y_ymax: [0.1806506535426812, 222.8026601199757]\n"
     ]
    }
   ],
   "source": [
    "reachset = np.vstack((data_structured, data_random))\n",
    "print(f\"Reachset shape: {reachset.shape}\")\n",
    "for i in range(reachset.shape[1]):\n",
    "        print(f\"{names[i]}: [{np.min(reachset[:, i])}, {np.max(reachset[:, i])}]\")"
   ]
  },
  {
   "cell_type": "code",
   "execution_count": 12,
   "metadata": {},
   "outputs": [
    {
     "ename": "ValueError",
     "evalue": "The truth value of an array with more than one element is ambiguous. Use a.any() or a.all()",
     "output_type": "error",
     "traceback": [
      "\u001b[1;31m---------------------------------------------------------------------------\u001b[0m",
      "\u001b[1;31mValueError\u001b[0m                                Traceback (most recent call last)",
      "\u001b[1;32mc:\\Users\\ktomita3\\Documents\\001_workspace\\learning-hda-reachability\\dev\\train_reach.ipynb Cell 8\u001b[0m line \u001b[0;36m1\n\u001b[1;32m----> <a href='vscode-notebook-cell:/c%3A/Users/ktomita3/Documents/001_workspace/learning-hda-reachability/dev/train_reach.ipynb#X11sZmlsZQ%3D%3D?line=0'>1</a>\u001b[0m xmin_, xmax_, ymax_, x_ymax_ \u001b[39m=\u001b[39m lrn\u001b[39m.\u001b[39;49mtransform_reachsetparam(\n\u001b[0;32m      <a href='vscode-notebook-cell:/c%3A/Users/ktomita3/Documents/001_workspace/learning-hda-reachability/dev/train_reach.ipynb#X11sZmlsZQ%3D%3D?line=1'>2</a>\u001b[0m     xmin\u001b[39m=\u001b[39;49mreachset[:, \u001b[39m5\u001b[39;49m], \n\u001b[0;32m      <a href='vscode-notebook-cell:/c%3A/Users/ktomita3/Documents/001_workspace/learning-hda-reachability/dev/train_reach.ipynb#X11sZmlsZQ%3D%3D?line=2'>3</a>\u001b[0m     xmax\u001b[39m=\u001b[39;49mreachset[:, \u001b[39m7\u001b[39;49m], \n\u001b[0;32m      <a href='vscode-notebook-cell:/c%3A/Users/ktomita3/Documents/001_workspace/learning-hda-reachability/dev/train_reach.ipynb#X11sZmlsZQ%3D%3D?line=3'>4</a>\u001b[0m     ymax\u001b[39m=\u001b[39;49mreachset[:, \u001b[39m10\u001b[39;49m], \n\u001b[0;32m      <a href='vscode-notebook-cell:/c%3A/Users/ktomita3/Documents/001_workspace/learning-hda-reachability/dev/train_reach.ipynb#X11sZmlsZQ%3D%3D?line=4'>5</a>\u001b[0m     x_ymax\u001b[39m=\u001b[39;49mreachset[:, \u001b[39m9\u001b[39;49m], \n\u001b[0;32m      <a href='vscode-notebook-cell:/c%3A/Users/ktomita3/Documents/001_workspace/learning-hda-reachability/dev/train_reach.ipynb#X11sZmlsZQ%3D%3D?line=5'>6</a>\u001b[0m     alt\u001b[39m=\u001b[39;49mreachset[:, \u001b[39m0\u001b[39;49m])\n",
      "File \u001b[1;32mc:\\Users\\ktomita3\\Documents\\001_workspace\\learning-hda-reachability\\dev\\..\\src\\learning\\transform.py:56\u001b[0m, in \u001b[0;36mtransform_reachsetparam\u001b[1;34m(xmin, xmax, ymax, x_ymax, alt, fov)\u001b[0m\n\u001b[0;32m     54\u001b[0m \u001b[39mdef\u001b[39;00m \u001b[39mtransform_reachsetparam\u001b[39m(xmin, xmax, ymax, x_ymax, alt, fov\u001b[39m=\u001b[39mFOV):\n\u001b[0;32m     55\u001b[0m \u001b[39m    \u001b[39m\u001b[39m\"\"\"transform values to [0, 1]\"\"\"\u001b[39;00m\n\u001b[1;32m---> 56\u001b[0m     \u001b[39massert\u001b[39;00m ymax \u001b[39m>\u001b[39;49m\u001b[39m=\u001b[39;49m \u001b[39m0\u001b[39;49m, \u001b[39m\"\u001b[39m\u001b[39mymax must be positive\u001b[39m\u001b[39m\"\u001b[39m\n\u001b[0;32m     57\u001b[0m     \u001b[39m# normalize\u001b[39;00m\n\u001b[0;32m     58\u001b[0m     fov_radius \u001b[39m=\u001b[39m (alt \u001b[39m*\u001b[39m np\u001b[39m.\u001b[39mtan(fov \u001b[39m/\u001b[39m \u001b[39m2\u001b[39m)) \u001b[39m*\u001b[39m \u001b[39m1.05\u001b[39m  \u001b[39m# 5% safety factor\u001b[39;00m\n",
      "\u001b[1;31mValueError\u001b[0m: The truth value of an array with more than one element is ambiguous. Use a.any() or a.all()"
     ]
    }
   ],
   "source": [
    "xmin_, xmax_, ymax_, x_ymax_ = lrn.transform_reachsetparam(\n",
    "    xmin=reachset[:, 5], \n",
    "    xmax=reachset[:, 7], \n",
    "    ymax=reachset[:, 10], \n",
    "    x_ymax=reachset[:, 9], \n",
    "    alt=reachset[:, 0])\n"
   ]
  },
  {
   "cell_type": "code",
   "execution_count": 10,
   "metadata": {},
   "outputs": [
    {
     "data": {
      "text/plain": [
       "222.8026601199757"
      ]
     },
     "execution_count": 10,
     "metadata": {},
     "output_type": "execute_result"
    }
   ],
   "source": [
    "np.max(reachset[:, 10])"
   ]
  },
  {
   "cell_type": "code",
   "execution_count": null,
   "metadata": {},
   "outputs": [],
   "source": []
  }
 ],
 "metadata": {
  "kernelspec": {
   "display_name": "learn-reach",
   "language": "python",
   "name": "python3"
  },
  "language_info": {
   "codemirror_mode": {
    "name": "ipython",
    "version": 3
   },
   "file_extension": ".py",
   "mimetype": "text/x-python",
   "name": "python",
   "nbconvert_exporter": "python",
   "pygments_lexer": "ipython3",
   "version": "3.9.18"
  }
 },
 "nbformat": 4,
 "nbformat_minor": 2
}
